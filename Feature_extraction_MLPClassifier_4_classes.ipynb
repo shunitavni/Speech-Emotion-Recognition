{
  "nbformat": 4,
  "nbformat_minor": 0,
  "metadata": {
    "colab": {
      "name": "Feature extraction MLPClassifier - 4 classes.ipynb",
      "provenance": [],
      "collapsed_sections": [],
      "include_colab_link": true
    },
    "kernelspec": {
      "name": "python3",
      "display_name": "Python 3"
    },
    "accelerator": "GPU"
  },
  "cells": [
    {
      "cell_type": "markdown",
      "metadata": {
        "id": "view-in-github",
        "colab_type": "text"
      },
      "source": [
        "<a href=\"https://colab.research.google.com/github/shunitavni/Speech-Emotion-Recognition/blob/master/Feature_extraction_MLPClassifier_4_classes.ipynb\" target=\"_parent\"><img src=\"https://colab.research.google.com/assets/colab-badge.svg\" alt=\"Open In Colab\"/></a>"
      ]
    },
    {
      "cell_type": "code",
      "metadata": {
        "id": "T267CerGRSlr",
        "outputId": "9d57a189-30f0-48a5-b042-f9a508fd81a5",
        "colab": {
          "base_uri": "https://localhost:8080/",
          "height": 193
        }
      },
      "source": [
        "pip install conda"
      ],
      "execution_count": null,
      "outputs": [
        {
          "output_type": "stream",
          "text": [
            "Requirement already satisfied: conda in /usr/local/lib/python3.6/dist-packages (4.3.16)\n",
            "Requirement already satisfied: pycosat>=0.6.1 in /usr/local/lib/python3.6/dist-packages (from conda) (0.6.3)\n",
            "Requirement already satisfied: requests>=2.12.4 in /usr/local/lib/python3.6/dist-packages (from conda) (2.23.0)\n",
            "Requirement already satisfied: ruamel.yaml>=0.11.14 in /usr/local/lib/python3.6/dist-packages (from conda) (0.16.10)\n",
            "Requirement already satisfied: idna<3,>=2.5 in /usr/local/lib/python3.6/dist-packages (from requests>=2.12.4->conda) (2.9)\n",
            "Requirement already satisfied: certifi>=2017.4.17 in /usr/local/lib/python3.6/dist-packages (from requests>=2.12.4->conda) (2020.6.20)\n",
            "Requirement already satisfied: urllib3!=1.25.0,!=1.25.1,<1.26,>=1.21.1 in /usr/local/lib/python3.6/dist-packages (from requests>=2.12.4->conda) (1.24.3)\n",
            "Requirement already satisfied: chardet<4,>=3.0.2 in /usr/local/lib/python3.6/dist-packages (from requests>=2.12.4->conda) (3.0.4)\n",
            "Requirement already satisfied: ruamel.yaml.clib>=0.1.2; platform_python_implementation == \"CPython\" and python_version < \"3.9\" in /usr/local/lib/python3.6/dist-packages (from ruamel.yaml>=0.11.14->conda) (0.2.0)\n"
          ],
          "name": "stdout"
        }
      ]
    },
    {
      "cell_type": "code",
      "metadata": {
        "id": "qFw_sW4DRbzK",
        "outputId": "368ecd39-1ed0-413f-eb13-2b35ba23f841",
        "colab": {
          "base_uri": "https://localhost:8080/",
          "height": 69
        }
      },
      "source": [
        "pip install pysoundfile"
      ],
      "execution_count": null,
      "outputs": [
        {
          "output_type": "stream",
          "text": [
            "Requirement already satisfied: pysoundfile in /usr/local/lib/python3.6/dist-packages (0.9.0.post1)\n",
            "Requirement already satisfied: cffi>=0.6 in /usr/local/lib/python3.6/dist-packages (from pysoundfile) (1.14.0)\n",
            "Requirement already satisfied: pycparser in /usr/local/lib/python3.6/dist-packages (from cffi>=0.6->pysoundfile) (2.20)\n"
          ],
          "name": "stdout"
        }
      ]
    },
    {
      "cell_type": "code",
      "metadata": {
        "id": "WG0uM8-FNM_f"
      },
      "source": [
        "import librosa    #Python Library for analysing audio\n",
        "import soundfile\n",
        "import os, glob, pickle\n",
        "import numpy as np"
      ],
      "execution_count": null,
      "outputs": []
    },
    {
      "cell_type": "code",
      "metadata": {
        "id": "TD1SQLtw-rRQ"
      },
      "source": [
        "import matplotlib.pyplot as plt\n",
        "import torch\n",
        "import torch.nn.functional as functional\n",
        "import torch.nn as nn\n",
        "import torch.optim as optim\n",
        "import matplotlib.pyplot as plt\n",
        "import os\n",
        "import os.path\n",
        "import pdb\n",
        "\n",
        "#%%\n",
        "#%%\n",
        "# --------------------------------------------------------------------------------------------- #\n",
        "                                        # Data Section\n",
        "                        # Prepare all the data for training and prediction\n",
        "# --------------------------------------------------------------------------------------------- #\n",
        "\n",
        "\n",
        "# -------------------------------------------- #\n",
        "            # Generate training set\n",
        "# -------------------------------------------- #\n",
        "AUDIO_EXTENSIONS = [\n",
        "    '.wav', '.WAV',\n",
        "]\n",
        "\n",
        "def is_audio_file(filename):\n",
        "    return any(filename.endswith(extension) for extension in AUDIO_EXTENSIONS)\n",
        "\n",
        "def find_classes(dir):\n",
        "    classes = [d for d in os.listdir(dir) if os.path.isdir(os.path.join(dir, d))]\n",
        "    classes.sort()\n",
        "    class_to_idx = {classes[i]: i for i in range(len(classes))}\n",
        "    return classes, class_to_idx\n",
        "\n",
        "def make_dataset(dir, class_to_idx):\n",
        "    spects = []\n",
        "    dir = os.path.expanduser(dir)\n",
        "    for target in sorted(os.listdir(dir)):\n",
        "        d = os.path.join(dir, target)\n",
        "        if not os.path.isdir(d):\n",
        "            continue\n",
        "\n",
        "        for root, _, fnames in sorted(os.walk(d)):\n",
        "            for fname in sorted(fnames):\n",
        "                if is_audio_file(fname):\n",
        "                    path = os.path.join(root, fname)\n",
        "                    item = (path, class_to_idx[target])\n",
        "                    spects.append(item)\n",
        "    return spects"
      ],
      "execution_count": null,
      "outputs": []
    },
    {
      "cell_type": "code",
      "metadata": {
        "id": "jNk0MIfFRv1c"
      },
      "source": [
        "def extract_features(file_name, mfcc, chroma, mel, contrast,tonnetz):   \n",
        "    with soundfile.SoundFile(file_name) as sound_file:\n",
        "        X = sound_file.read(dtype = \"float32\")\n",
        "        sample_rate = sound_file.samplerate\n",
        " \n",
        "        if chroma:\n",
        "            stft = np.abs(librosa.stft(X))\n",
        "            result = np.array([])\n",
        "        if mfcc:\n",
        "            mfccs = np.mean(librosa.feature.mfcc(y = X, sr = sample_rate, n_mfcc = 40).T, axis = 0)\n",
        "            result = np.hstack((result, mfccs))\n",
        "        if chroma:\n",
        "            chroma = np.mean(librosa.feature.chroma_stft(S=stft, sr=sample_rate).T, axis = 0)\n",
        "            result = np.hstack((result, chroma))\n",
        "        if mel:\n",
        "            mel = np.mean(librosa.feature.melspectrogram(X, sr = sample_rate).T, axis = 0)\n",
        "            result = np.hstack((result, mel))\n",
        "        if contrast:\n",
        "            contrast = np.mean(librosa.feature.spectral_contrast(S=stft, sr=sample_rate).T,axis=0)\n",
        "            result = np.hstack((result, contrast))\n",
        "        if tonnetz:\n",
        "            tonnetz = np.mean(librosa.feature.tonnetz(y=librosa.effects.harmonic(X), sr=sample_rate).T,axis=0)\n",
        "            result = np.hstack((result, tonnetz))\n",
        "    \n",
        "    return result"
      ],
      "execution_count": null,
      "outputs": []
    },
    {
      "cell_type": "code",
      "metadata": {
        "id": "aEB8P_D3TDbU",
        "outputId": "706872b4-77ab-45f7-f93f-c32d287d496c",
        "colab": {
          "base_uri": "https://localhost:8080/",
          "height": 35
        }
      },
      "source": [
        "from google.colab import drive\n",
        "drive.mount('/content/drive')\n"
      ],
      "execution_count": null,
      "outputs": [
        {
          "output_type": "stream",
          "text": [
            "Drive already mounted at /content/drive; to attempt to forcibly remount, call drive.mount(\"/content/drive\", force_remount=True).\n"
          ],
          "name": "stdout"
        }
      ]
    },
    {
      "cell_type": "code",
      "metadata": {
        "id": "fzErZzgm_Voq"
      },
      "source": [
        "#Get the directories which represent the classes\n",
        "# dirPath = \"/content/drive/My Drive/4\"\n",
        "# classes,class_to_idx = find_classes(dirPath)\n",
        "\n",
        "# spects = make_dataset(dirPath,class_to_idx)\n",
        "# print(spects)"
      ],
      "execution_count": null,
      "outputs": []
    },
    {
      "cell_type": "code",
      "metadata": {
        "id": "-yaZOmuER6GR"
      },
      "source": [
        "from sklearn.model_selection import train_test_split\n",
        "import csv\n",
        "\n",
        "\n",
        "def load_data(test_size=0.2):\n",
        "    X, y = [], []\n",
        "#   # if csv :#:\n",
        "#     for file in spects:\n",
        "#         file_name = file[0]\n",
        "#         emotion = file[1]\n",
        "#         feature=extract_features(file_name, mfcc = True, chroma = True, mel = True, contrast= True ,tonnetz= True)\n",
        "#         X.append(feature)\n",
        "#         y.append(emotion)\n",
        "\n",
        "    #:\n",
        " \n",
        "    with open('/content/drive/My Drive/final project/f_anger+happy.csv') as csvDataFile:\n",
        "       csvReader = csv.reader(csvDataFile,quoting=csv.QUOTE_NONNUMERIC)\n",
        "       for row in csvReader:\n",
        "         X.append(row)\n",
        "\n",
        "    with open('/content/drive/My Drive/final project/labels_anger+happy.csv') as csvDataFile:\n",
        "       csvReader = csv.reader(csvDataFile)\n",
        "       for row in csvReader:\n",
        "         y.append(row)\n",
        "    \n",
        "    with open('/content/drive/My Drive/final project/f_sad.csv') as csvDataFile:\n",
        "       csvReader = csv.reader(csvDataFile,quoting=csv.QUOTE_NONNUMERIC)\n",
        "       for row in csvReader:\n",
        "         X.append(row)\n",
        "\n",
        "    with open('/content/drive/My Drive/final project/labels_sad.csv') as csvDataFile:\n",
        "       csvReader = csv.reader(csvDataFile)\n",
        "       for row in csvReader:\n",
        "         y.append(row)\n",
        "    \n",
        "    with open('/content/drive/My Drive/final project/f_neutral.csv') as csvDataFile:\n",
        "       csvReader = csv.reader(csvDataFile,quoting=csv.QUOTE_NONNUMERIC)\n",
        "       for row in csvReader:\n",
        "         X.append(row)\n",
        "\n",
        "    with open('/content/drive/My Drive/final project/labels_neutral.csv') as csvDataFile:\n",
        "       csvReader = csv.reader(csvDataFile)\n",
        "       for row in csvReader:\n",
        "         y.append(row)\n",
        "\n",
        "    \n",
        "    return train_test_split(np.array(X), y, test_size = test_size, random_state = 9)"
      ],
      "execution_count": null,
      "outputs": []
    },
    {
      "cell_type": "code",
      "metadata": {
        "id": "WGpaAqYLTxUV"
      },
      "source": [
        "X_train, X_test, y_train, y_test = load_data(test_size = 0.25)\n"
      ],
      "execution_count": null,
      "outputs": []
    },
    {
      "cell_type": "code",
      "metadata": {
        "id": "2jUrTazrRlr3"
      },
      "source": [
        "# import pandas as pd\n",
        "# f = pd.DataFrame(np.array(X))\n",
        "# labels = pd.DataFrame(y)"
      ],
      "execution_count": null,
      "outputs": []
    },
    {
      "cell_type": "code",
      "metadata": {
        "id": "tpK0xQi6Rog-"
      },
      "source": [
        "# import pandas as pd\n",
        "# from pydrive.auth import GoogleAuth\n",
        "# from pydrive.drive import GoogleDrive\n",
        "# from google.colab import auth\n",
        "# from oauth2client.client import GoogleCredentials\n",
        "# auth.authenticate_user()\n",
        "# gauth = GoogleAuth()\n",
        "# gauth.credentials = GoogleCredentials.get_application_default()\n",
        "# drive = GoogleDrive(gauth)"
      ],
      "execution_count": null,
      "outputs": []
    },
    {
      "cell_type": "code",
      "metadata": {
        "id": "jD67-u1aRsJy"
      },
      "source": [
        "# f.to_csv('f_happy.csv')\n",
        "# uploaded = drive.CreateFile({'title': 'f_happy.csv'})\n",
        "# uploaded.SetContentFile('f_happy.csv')\n",
        "# uploaded.Upload()\n",
        "\n",
        "# labels.to_csv('labels_happy.csv')\n",
        "# uploaded = drive.CreateFile({'title': 'labels_happy.csv'})\n",
        "# uploaded.SetContentFile('labels_happy.csv')\n",
        "# uploaded.Upload()"
      ],
      "execution_count": null,
      "outputs": []
    },
    {
      "cell_type": "code",
      "metadata": {
        "id": "XM0pvsCiUlKj",
        "outputId": "6a5b91d3-5b91-4e2b-a7f0-fd244c2bcda6",
        "colab": {
          "base_uri": "https://localhost:8080/",
          "height": 295
        }
      },
      "source": [
        "print(X_train.shape)\n",
        "print(X_train)\n",
        "print(X_test.shape)\n",
        "print(len(y_train))\n"
      ],
      "execution_count": null,
      "outputs": [
        {
          "output_type": "stream",
          "text": [
            "(5003, 193)\n",
            "[[-4.59631110e+02  2.45550544e+01 -2.62932768e+01 ... -1.30796350e-02\n",
            "   8.15013700e-03  4.20657000e-03]\n",
            " [-3.76451949e+02  1.12338488e+02  4.77203748e+01 ... -3.63053850e-02\n",
            "   5.89946000e-03  1.27974760e-02]\n",
            " [-4.18492246e+02  1.20615769e+02  3.69274351e+01 ... -6.30422170e-02\n",
            "   7.02053600e-03 -3.76352800e-03]\n",
            " ...\n",
            " [-3.59689020e+02  9.19809499e+01  4.02281166e+01 ...  3.17553980e-02\n",
            "   1.08093010e-02 -7.11908000e-04]\n",
            " [-4.28209707e+02  9.59509877e+01  4.74728172e+01 ... -1.79338780e-02\n",
            "   7.59434200e-03  4.98271400e-03]\n",
            " [-2.81989551e+02  8.83522378e+01  9.62750194e+00 ... -2.74849000e-02\n",
            "   5.18861600e-03 -5.98994700e-03]]\n",
            "(1668, 193)\n",
            "5003\n"
          ],
          "name": "stdout"
        }
      ]
    },
    {
      "cell_type": "code",
      "metadata": {
        "id": "rut8s97WUlm5",
        "outputId": "fe33fc15-f7b6-4348-9038-6881e73608d8",
        "colab": {
          "base_uri": "https://localhost:8080/",
          "height": 35
        }
      },
      "source": [
        "print(f'Features extracted: {X_train.shape[1]}')"
      ],
      "execution_count": null,
      "outputs": [
        {
          "output_type": "stream",
          "text": [
            "Features extracted: 193\n"
          ],
          "name": "stdout"
        }
      ]
    },
    {
      "cell_type": "code",
      "metadata": {
        "id": "ZZQOx1SuUrdM"
      },
      "source": [
        "from sklearn.neural_network import MLPClassifier\n",
        "classifier = MLPClassifier(alpha = 0.01, batch_size = 256, epsilon = 1e-08, hidden_layer_sizes = (300,), \n",
        "                    learning_rate='adaptive', max_iter = 500)"
      ],
      "execution_count": null,
      "outputs": []
    },
    {
      "cell_type": "code",
      "metadata": {
        "id": "bBfKSQOrUyaP",
        "outputId": "06fbb7f0-525d-4c2e-bc48-94f73f1ba500",
        "colab": {
          "base_uri": "https://localhost:8080/",
          "height": 211
        }
      },
      "source": [
        "classifier.fit(X_train,y_train)"
      ],
      "execution_count": null,
      "outputs": [
        {
          "output_type": "stream",
          "text": [
            "/usr/local/lib/python3.6/dist-packages/sklearn/neural_network/_multilayer_perceptron.py:934: DataConversionWarning: A column-vector y was passed when a 1d array was expected. Please change the shape of y to (n_samples, ), for example using ravel().\n",
            "  y = column_or_1d(y, warn=True)\n"
          ],
          "name": "stderr"
        },
        {
          "output_type": "execute_result",
          "data": {
            "text/plain": [
              "MLPClassifier(activation='relu', alpha=0.01, batch_size=256, beta_1=0.9,\n",
              "              beta_2=0.999, early_stopping=False, epsilon=1e-08,\n",
              "              hidden_layer_sizes=(300,), learning_rate='adaptive',\n",
              "              learning_rate_init=0.001, max_fun=15000, max_iter=500,\n",
              "              momentum=0.9, n_iter_no_change=10, nesterovs_momentum=True,\n",
              "              power_t=0.5, random_state=None, shuffle=True, solver='adam',\n",
              "              tol=0.0001, validation_fraction=0.1, verbose=False,\n",
              "              warm_start=False)"
            ]
          },
          "metadata": {
            "tags": []
          },
          "execution_count": 45
        }
      ]
    },
    {
      "cell_type": "code",
      "metadata": {
        "id": "Gqg63BjhVhGQ"
      },
      "source": [
        "y_pred=classifier.predict(X_test)"
      ],
      "execution_count": null,
      "outputs": []
    },
    {
      "cell_type": "code",
      "metadata": {
        "id": "hStB2OdDyItj",
        "outputId": "3eeab2d4-dd22-4349-e781-65633a8e6975",
        "colab": {
          "base_uri": "https://localhost:8080/",
          "height": 107
        }
      },
      "source": [
        "print(X_train.shape)\n",
        "print(X_test.shape)\n",
        "print(y_pred.shape)\n",
        "print(y_test)"
      ],
      "execution_count": null,
      "outputs": [
        {
          "output_type": "stream",
          "text": [
            "(5003, 193)\n",
            "(1668, 193)\n",
            "(1668,)\n",
            "[['sad'], ['neutral'], ['sad'], ['neutral'], ['sad'], ['happy'], ['neutral'], ['happy'], ['sad'], ['sad'], ['neutral'], ['sad'], ['sad'], ['neutral'], ['happy'], ['neutral'], ['happy'], ['happy'], ['neutral'], ['sad'], ['neutral'], ['neutral'], ['anger'], ['sad'], ['happy'], ['sad'], ['sad'], ['neutral'], ['anger'], ['happy'], ['anger'], ['anger'], ['happy'], ['sad'], ['anger'], ['sad'], ['anger'], ['anger'], ['sad'], ['neutral'], ['sad'], ['neutral'], ['sad'], ['sad'], ['anger'], ['sad'], ['anger'], ['neutral'], ['anger'], ['anger'], ['anger'], ['anger'], ['anger'], ['anger'], ['anger'], ['anger'], ['happy'], ['happy'], ['happy'], ['anger'], ['sad'], ['anger'], ['neutral'], ['sad'], ['neutral'], ['sad'], ['sad'], ['anger'], ['anger'], ['neutral'], ['sad'], ['anger'], ['anger'], ['neutral'], ['anger'], ['neutral'], ['anger'], ['neutral'], ['happy'], ['neutral'], ['sad'], ['sad'], ['anger'], ['sad'], ['happy'], ['happy'], ['sad'], ['sad'], ['neutral'], ['neutral'], ['neutral'], ['happy'], ['happy'], ['sad'], ['sad'], ['happy'], ['sad'], ['anger'], ['happy'], ['anger'], ['sad'], ['happy'], ['sad'], ['happy'], ['happy'], ['anger'], ['anger'], ['happy'], ['anger'], ['happy'], ['sad'], ['neutral'], ['sad'], ['happy'], ['neutral'], ['happy'], ['sad'], ['neutral'], ['happy'], ['neutral'], ['sad'], ['anger'], ['sad'], ['anger'], ['anger'], ['sad'], ['anger'], ['happy'], ['neutral'], ['anger'], ['anger'], ['neutral'], ['happy'], ['happy'], ['neutral'], ['sad'], ['neutral'], ['neutral'], ['sad'], ['sad'], ['anger'], ['happy'], ['sad'], ['sad'], ['neutral'], ['neutral'], ['happy'], ['neutral'], ['happy'], ['neutral'], ['sad'], ['neutral'], ['neutral'], ['anger'], ['neutral'], ['happy'], ['anger'], ['happy'], ['neutral'], ['happy'], ['neutral'], ['happy'], ['happy'], ['happy'], ['anger'], ['sad'], ['sad'], ['sad'], ['neutral'], ['happy'], ['happy'], ['happy'], ['anger'], ['happy'], ['happy'], ['sad'], ['neutral'], ['neutral'], ['happy'], ['anger'], ['anger'], ['anger'], ['anger'], ['anger'], ['anger'], ['anger'], ['happy'], ['happy'], ['happy'], ['neutral'], ['happy'], ['neutral'], ['happy'], ['neutral'], ['happy'], ['sad'], ['anger'], ['happy'], ['happy'], ['happy'], ['anger'], ['sad'], ['neutral'], ['neutral'], ['neutral'], ['neutral'], ['neutral'], ['neutral'], ['sad'], ['happy'], ['sad'], ['anger'], ['happy'], ['sad'], ['happy'], ['neutral'], ['happy'], ['happy'], ['happy'], ['anger'], ['anger'], ['sad'], ['neutral'], ['neutral'], ['sad'], ['happy'], ['happy'], ['happy'], ['sad'], ['happy'], ['anger'], ['sad'], ['happy'], ['anger'], ['neutral'], ['sad'], ['sad'], ['neutral'], ['happy'], ['sad'], ['happy'], ['neutral'], ['anger'], ['happy'], ['sad'], ['sad'], ['happy'], ['sad'], ['neutral'], ['anger'], ['anger'], ['happy'], ['sad'], ['happy'], ['happy'], ['sad'], ['neutral'], ['sad'], ['sad'], ['sad'], ['neutral'], ['sad'], ['sad'], ['sad'], ['happy'], ['happy'], ['sad'], ['happy'], ['anger'], ['happy'], ['happy'], ['anger'], ['neutral'], ['anger'], ['neutral'], ['happy'], ['anger'], ['neutral'], ['anger'], ['happy'], ['anger'], ['sad'], ['happy'], ['neutral'], ['happy'], ['neutral'], ['neutral'], ['sad'], ['anger'], ['happy'], ['sad'], ['neutral'], ['anger'], ['sad'], ['happy'], ['happy'], ['anger'], ['neutral'], ['happy'], ['happy'], ['anger'], ['sad'], ['sad'], ['neutral'], ['neutral'], ['happy'], ['neutral'], ['sad'], ['happy'], ['neutral'], ['sad'], ['happy'], ['neutral'], ['sad'], ['anger'], ['sad'], ['happy'], ['sad'], ['sad'], ['sad'], ['sad'], ['sad'], ['sad'], ['anger'], ['neutral'], ['happy'], ['anger'], ['sad'], ['anger'], ['anger'], ['anger'], ['neutral'], ['sad'], ['sad'], ['happy'], ['sad'], ['sad'], ['sad'], ['sad'], ['anger'], ['happy'], ['sad'], ['anger'], ['sad'], ['happy'], ['neutral'], ['anger'], ['sad'], ['neutral'], ['sad'], ['happy'], ['sad'], ['sad'], ['happy'], ['sad'], ['neutral'], ['sad'], ['sad'], ['neutral'], ['anger'], ['happy'], ['happy'], ['sad'], ['anger'], ['happy'], ['happy'], ['sad'], ['sad'], ['anger'], ['anger'], ['sad'], ['neutral'], ['anger'], ['sad'], ['sad'], ['happy'], ['neutral'], ['neutral'], ['happy'], ['anger'], ['anger'], ['neutral'], ['neutral'], ['anger'], ['anger'], ['neutral'], ['happy'], ['happy'], ['anger'], ['happy'], ['anger'], ['anger'], ['anger'], ['sad'], ['happy'], ['neutral'], ['anger'], ['neutral'], ['happy'], ['sad'], ['happy'], ['sad'], ['happy'], ['anger'], ['happy'], ['sad'], ['anger'], ['anger'], ['neutral'], ['anger'], ['anger'], ['happy'], ['anger'], ['neutral'], ['neutral'], ['happy'], ['neutral'], ['anger'], ['sad'], ['happy'], ['anger'], ['anger'], ['happy'], ['happy'], ['happy'], ['neutral'], ['anger'], ['happy'], ['happy'], ['happy'], ['anger'], ['anger'], ['sad'], ['happy'], ['happy'], ['happy'], ['sad'], ['sad'], ['neutral'], ['happy'], ['neutral'], ['neutral'], ['anger'], ['sad'], ['anger'], ['sad'], ['happy'], ['anger'], ['happy'], ['happy'], ['sad'], ['happy'], ['sad'], ['anger'], ['anger'], ['happy'], ['neutral'], ['sad'], ['anger'], ['anger'], ['neutral'], ['neutral'], ['anger'], ['happy'], ['anger'], ['neutral'], ['happy'], ['neutral'], ['anger'], ['neutral'], ['neutral'], ['sad'], ['happy'], ['sad'], ['anger'], ['sad'], ['sad'], ['sad'], ['anger'], ['anger'], ['anger'], ['happy'], ['sad'], ['happy'], ['neutral'], ['happy'], ['happy'], ['anger'], ['happy'], ['happy'], ['neutral'], ['sad'], ['neutral'], ['neutral'], ['happy'], ['happy'], ['happy'], ['happy'], ['sad'], ['sad'], ['happy'], ['neutral'], ['happy'], ['happy'], ['anger'], ['anger'], ['happy'], ['sad'], ['anger'], ['sad'], ['anger'], ['sad'], ['sad'], ['happy'], ['neutral'], ['happy'], ['sad'], ['sad'], ['anger'], ['neutral'], ['neutral'], ['anger'], ['sad'], ['neutral'], ['anger'], ['sad'], ['neutral'], ['sad'], ['neutral'], ['happy'], ['anger'], ['happy'], ['neutral'], ['neutral'], ['anger'], ['anger'], ['happy'], ['neutral'], ['happy'], ['neutral'], ['happy'], ['sad'], ['sad'], ['happy'], ['happy'], ['sad'], ['sad'], ['neutral'], ['sad'], ['sad'], ['happy'], ['anger'], ['happy'], ['happy'], ['anger'], ['happy'], ['happy'], ['neutral'], ['anger'], ['neutral'], ['anger'], ['happy'], ['anger'], ['anger'], ['neutral'], ['happy'], ['anger'], ['sad'], ['happy'], ['neutral'], ['neutral'], ['happy'], ['happy'], ['anger'], ['anger'], ['sad'], ['sad'], ['sad'], ['sad'], ['happy'], ['happy'], ['anger'], ['happy'], ['happy'], ['sad'], ['happy'], ['neutral'], ['neutral'], ['happy'], ['neutral'], ['neutral'], ['happy'], ['sad'], ['neutral'], ['happy'], ['happy'], ['anger'], ['happy'], ['happy'], ['neutral'], ['anger'], ['anger'], ['happy'], ['happy'], ['happy'], ['neutral'], ['anger'], ['sad'], ['neutral'], ['happy'], ['anger'], ['neutral'], ['anger'], ['happy'], ['anger'], ['anger'], ['anger'], ['neutral'], ['sad'], ['happy'], ['neutral'], ['happy'], ['neutral'], ['neutral'], ['neutral'], ['neutral'], ['sad'], ['sad'], ['neutral'], ['neutral'], ['neutral'], ['happy'], ['neutral'], ['sad'], ['anger'], ['neutral'], ['anger'], ['happy'], ['neutral'], ['sad'], ['happy'], ['anger'], ['sad'], ['neutral'], ['neutral'], ['anger'], ['neutral'], ['happy'], ['neutral'], ['neutral'], ['neutral'], ['sad'], ['happy'], ['anger'], ['neutral'], ['happy'], ['happy'], ['neutral'], ['anger'], ['anger'], ['neutral'], ['happy'], ['neutral'], ['happy'], ['happy'], ['anger'], ['happy'], ['sad'], ['neutral'], ['neutral'], ['happy'], ['happy'], ['sad'], ['anger'], ['anger'], ['happy'], ['anger'], ['anger'], ['neutral'], ['anger'], ['sad'], ['sad'], ['anger'], ['neutral'], ['sad'], ['anger'], ['neutral'], ['anger'], ['anger'], ['anger'], ['sad'], ['anger'], ['neutral'], ['happy'], ['sad'], ['neutral'], ['happy'], ['sad'], ['sad'], ['happy'], ['sad'], ['sad'], ['neutral'], ['sad'], ['neutral'], ['sad'], ['sad'], ['anger'], ['anger'], ['anger'], ['neutral'], ['anger'], ['sad'], ['sad'], ['sad'], ['happy'], ['happy'], ['neutral'], ['happy'], ['neutral'], ['happy'], ['happy'], ['anger'], ['anger'], ['happy'], ['sad'], ['sad'], ['neutral'], ['happy'], ['neutral'], ['anger'], ['happy'], ['happy'], ['anger'], ['sad'], ['neutral'], ['neutral'], ['anger'], ['anger'], ['sad'], ['neutral'], ['sad'], ['happy'], ['happy'], ['neutral'], ['happy'], ['anger'], ['happy'], ['sad'], ['happy'], ['anger'], ['anger'], ['sad'], ['anger'], ['anger'], ['sad'], ['neutral'], ['happy'], ['anger'], ['happy'], ['happy'], ['neutral'], ['happy'], ['anger'], ['neutral'], ['sad'], ['anger'], ['neutral'], ['happy'], ['sad'], ['happy'], ['happy'], ['happy'], ['happy'], ['happy'], ['sad'], ['neutral'], ['sad'], ['neutral'], ['sad'], ['sad'], ['anger'], ['happy'], ['anger'], ['happy'], ['sad'], ['anger'], ['anger'], ['happy'], ['anger'], ['anger'], ['anger'], ['happy'], ['sad'], ['sad'], ['anger'], ['anger'], ['neutral'], ['sad'], ['neutral'], ['neutral'], ['sad'], ['happy'], ['sad'], ['happy'], ['anger'], ['sad'], ['neutral'], ['neutral'], ['happy'], ['sad'], ['sad'], ['anger'], ['happy'], ['anger'], ['sad'], ['neutral'], ['neutral'], ['neutral'], ['neutral'], ['happy'], ['neutral'], ['anger'], ['anger'], ['neutral'], ['neutral'], ['neutral'], ['anger'], ['anger'], ['sad'], ['happy'], ['anger'], ['sad'], ['happy'], ['neutral'], ['anger'], ['happy'], ['neutral'], ['sad'], ['sad'], ['happy'], ['sad'], ['happy'], ['happy'], ['sad'], ['anger'], ['anger'], ['happy'], ['neutral'], ['happy'], ['sad'], ['anger'], ['happy'], ['happy'], ['sad'], ['happy'], ['sad'], ['anger'], ['sad'], ['happy'], ['sad'], ['anger'], ['sad'], ['neutral'], ['happy'], ['anger'], ['neutral'], ['happy'], ['anger'], ['neutral'], ['anger'], ['happy'], ['neutral'], ['happy'], ['neutral'], ['sad'], ['neutral'], ['neutral'], ['anger'], ['happy'], ['happy'], ['anger'], ['happy'], ['happy'], ['neutral'], ['anger'], ['happy'], ['happy'], ['sad'], ['neutral'], ['sad'], ['sad'], ['sad'], ['happy'], ['neutral'], ['happy'], ['happy'], ['anger'], ['neutral'], ['sad'], ['sad'], ['anger'], ['neutral'], ['anger'], ['happy'], ['anger'], ['sad'], ['sad'], ['sad'], ['neutral'], ['anger'], ['anger'], ['neutral'], ['happy'], ['neutral'], ['neutral'], ['neutral'], ['neutral'], ['sad'], ['neutral'], ['anger'], ['happy'], ['anger'], ['happy'], ['sad'], ['anger'], ['sad'], ['anger'], ['happy'], ['anger'], ['neutral'], ['neutral'], ['neutral'], ['neutral'], ['anger'], ['neutral'], ['sad'], ['sad'], ['anger'], ['happy'], ['happy'], ['sad'], ['anger'], ['anger'], ['anger'], ['neutral'], ['neutral'], ['neutral'], ['sad'], ['anger'], ['sad'], ['sad'], ['anger'], ['neutral'], ['sad'], ['happy'], ['neutral'], ['neutral'], ['happy'], ['neutral'], ['neutral'], ['anger'], ['sad'], ['sad'], ['neutral'], ['sad'], ['sad'], ['sad'], ['happy'], ['neutral'], ['happy'], ['neutral'], ['anger'], ['happy'], ['neutral'], ['sad'], ['sad'], ['happy'], ['neutral'], ['neutral'], ['happy'], ['anger'], ['anger'], ['anger'], ['sad'], ['anger'], ['happy'], ['happy'], ['neutral'], ['happy'], ['neutral'], ['anger'], ['happy'], ['happy'], ['neutral'], ['sad'], ['neutral'], ['anger'], ['neutral'], ['sad'], ['neutral'], ['anger'], ['neutral'], ['neutral'], ['happy'], ['neutral'], ['anger'], ['anger'], ['sad'], ['anger'], ['sad'], ['sad'], ['sad'], ['neutral'], ['happy'], ['happy'], ['sad'], ['sad'], ['happy'], ['neutral'], ['sad'], ['anger'], ['anger'], ['happy'], ['happy'], ['neutral'], ['neutral'], ['anger'], ['sad'], ['sad'], ['neutral'], ['happy'], ['anger'], ['neutral'], ['happy'], ['neutral'], ['anger'], ['sad'], ['happy'], ['anger'], ['sad'], ['happy'], ['happy'], ['anger'], ['happy'], ['happy'], ['happy'], ['neutral'], ['anger'], ['neutral'], ['neutral'], ['neutral'], ['happy'], ['sad'], ['sad'], ['sad'], ['neutral'], ['sad'], ['anger'], ['neutral'], ['happy'], ['sad'], ['sad'], ['sad'], ['sad'], ['anger'], ['happy'], ['anger'], ['neutral'], ['happy'], ['sad'], ['sad'], ['neutral'], ['anger'], ['neutral'], ['neutral'], ['neutral'], ['anger'], ['anger'], ['sad'], ['neutral'], ['sad'], ['happy'], ['happy'], ['anger'], ['sad'], ['happy'], ['sad'], ['anger'], ['anger'], ['neutral'], ['sad'], ['happy'], ['neutral'], ['anger'], ['neutral'], ['neutral'], ['anger'], ['anger'], ['anger'], ['neutral'], ['anger'], ['happy'], ['sad'], ['sad'], ['happy'], ['happy'], ['neutral'], ['anger'], ['happy'], ['sad'], ['anger'], ['happy'], ['sad'], ['neutral'], ['happy'], ['happy'], ['happy'], ['anger'], ['happy'], ['anger'], ['happy'], ['neutral'], ['neutral'], ['neutral'], ['sad'], ['sad'], ['sad'], ['sad'], ['sad'], ['neutral'], ['anger'], ['sad'], ['sad'], ['neutral'], ['sad'], ['neutral'], ['happy'], ['neutral'], ['neutral'], ['happy'], ['happy'], ['neutral'], ['neutral'], ['happy'], ['anger'], ['sad'], ['sad'], ['sad'], ['sad'], ['happy'], ['anger'], ['happy'], ['sad'], ['neutral'], ['happy'], ['neutral'], ['sad'], ['neutral'], ['happy'], ['anger'], ['neutral'], ['sad'], ['happy'], ['sad'], ['neutral'], ['anger'], ['happy'], ['neutral'], ['anger'], ['anger'], ['happy'], ['sad'], ['happy'], ['sad'], ['neutral'], ['anger'], ['happy'], ['anger'], ['neutral'], ['neutral'], ['happy'], ['neutral'], ['neutral'], ['happy'], ['happy'], ['happy'], ['happy'], ['happy'], ['happy'], ['happy'], ['anger'], ['happy'], ['neutral'], ['sad'], ['neutral'], ['anger'], ['sad'], ['neutral'], ['sad'], ['neutral'], ['happy'], ['anger'], ['sad'], ['sad'], ['sad'], ['sad'], ['sad'], ['sad'], ['neutral'], ['happy'], ['sad'], ['anger'], ['sad'], ['sad'], ['happy'], ['neutral'], ['happy'], ['sad'], ['happy'], ['sad'], ['anger'], ['happy'], ['happy'], ['neutral'], ['happy'], ['happy'], ['sad'], ['sad'], ['neutral'], ['happy'], ['happy'], ['sad'], ['neutral'], ['neutral'], ['happy'], ['happy'], ['sad'], ['anger'], ['happy'], ['sad'], ['sad'], ['neutral'], ['sad'], ['neutral'], ['sad'], ['happy'], ['sad'], ['sad'], ['neutral'], ['anger'], ['sad'], ['sad'], ['happy'], ['anger'], ['neutral'], ['sad'], ['happy'], ['anger'], ['happy'], ['neutral'], ['sad'], ['sad'], ['anger'], ['neutral'], ['happy'], ['neutral'], ['happy'], ['happy'], ['happy'], ['neutral'], ['sad'], ['sad'], ['sad'], ['anger'], ['happy'], ['neutral'], ['sad'], ['sad'], ['happy'], ['happy'], ['sad'], ['neutral'], ['sad'], ['anger'], ['happy'], ['anger'], ['neutral'], ['happy'], ['neutral'], ['neutral'], ['happy'], ['sad'], ['happy'], ['happy'], ['anger'], ['anger'], ['neutral'], ['anger'], ['anger'], ['happy'], ['anger'], ['anger'], ['happy'], ['sad'], ['anger'], ['happy'], ['happy'], ['sad'], ['anger'], ['anger'], ['happy'], ['happy'], ['anger'], ['anger'], ['sad'], ['neutral'], ['happy'], ['neutral'], ['happy'], ['neutral'], ['anger'], ['anger'], ['anger'], ['sad'], ['sad'], ['sad'], ['neutral'], ['happy'], ['neutral'], ['sad'], ['neutral'], ['neutral'], ['neutral'], ['sad'], ['sad'], ['sad'], ['happy'], ['anger'], ['anger'], ['anger'], ['neutral'], ['happy'], ['anger'], ['anger'], ['neutral'], ['anger'], ['anger'], ['neutral'], ['anger'], ['anger'], ['sad'], ['sad'], ['anger'], ['sad'], ['happy'], ['anger'], ['neutral'], ['anger'], ['anger'], ['sad'], ['anger'], ['sad'], ['happy'], ['neutral'], ['anger'], ['neutral'], ['happy'], ['sad'], ['happy'], ['neutral'], ['anger'], ['happy'], ['neutral'], ['anger'], ['sad'], ['neutral'], ['happy'], ['happy'], ['happy'], ['anger'], ['anger'], ['happy'], ['sad'], ['happy'], ['happy'], ['anger'], ['neutral'], ['neutral'], ['sad'], ['neutral'], ['sad'], ['sad'], ['anger'], ['happy'], ['neutral'], ['anger'], ['sad'], ['neutral'], ['neutral'], ['anger'], ['neutral'], ['happy'], ['happy'], ['anger'], ['anger'], ['anger'], ['happy'], ['anger'], ['happy'], ['sad'], ['sad'], ['anger'], ['sad'], ['sad'], ['happy'], ['sad'], ['sad'], ['anger'], ['neutral'], ['neutral'], ['happy'], ['anger'], ['neutral'], ['happy'], ['anger'], ['anger'], ['happy'], ['anger'], ['sad'], ['neutral'], ['neutral'], ['neutral'], ['sad'], ['neutral'], ['sad'], ['sad'], ['happy'], ['neutral'], ['neutral'], ['happy'], ['happy'], ['anger'], ['sad'], ['sad'], ['anger'], ['anger'], ['anger'], ['happy'], ['sad'], ['anger'], ['happy'], ['anger'], ['neutral'], ['happy'], ['neutral'], ['neutral'], ['neutral'], ['happy'], ['anger'], ['sad'], ['anger'], ['neutral'], ['anger'], ['sad'], ['anger'], ['neutral'], ['sad'], ['neutral'], ['neutral'], ['happy'], ['happy'], ['neutral'], ['sad'], ['sad'], ['sad'], ['neutral'], ['sad'], ['anger'], ['happy'], ['happy'], ['neutral'], ['neutral'], ['anger'], ['neutral'], ['happy'], ['anger'], ['anger'], ['happy'], ['anger'], ['anger'], ['anger'], ['happy'], ['happy'], ['sad'], ['neutral'], ['neutral'], ['happy'], ['sad'], ['neutral'], ['sad'], ['happy'], ['happy'], ['anger'], ['happy'], ['happy'], ['neutral'], ['happy'], ['sad'], ['anger'], ['anger'], ['sad'], ['neutral'], ['neutral'], ['happy'], ['happy'], ['sad'], ['anger'], ['neutral'], ['anger'], ['sad'], ['neutral'], ['anger'], ['happy'], ['neutral'], ['sad'], ['anger'], ['happy'], ['happy'], ['anger'], ['anger'], ['anger'], ['anger'], ['anger'], ['sad'], ['neutral'], ['anger'], ['happy'], ['sad'], ['anger'], ['happy'], ['sad'], ['neutral'], ['happy'], ['sad'], ['neutral'], ['sad'], ['happy'], ['sad'], ['sad'], ['sad'], ['happy'], ['happy'], ['happy'], ['anger'], ['happy'], ['anger'], ['sad'], ['happy'], ['sad'], ['happy'], ['neutral'], ['happy'], ['neutral'], ['sad'], ['sad'], ['neutral'], ['sad'], ['sad'], ['happy'], ['sad'], ['anger'], ['happy'], ['neutral'], ['anger'], ['sad'], ['neutral'], ['anger'], ['happy'], ['sad'], ['sad'], ['sad'], ['anger'], ['sad'], ['happy'], ['sad'], ['happy'], ['happy'], ['neutral'], ['sad'], ['neutral'], ['neutral'], ['neutral'], ['sad'], ['neutral'], ['neutral'], ['sad'], ['neutral'], ['neutral'], ['anger'], ['happy'], ['happy'], ['sad'], ['anger'], ['neutral'], ['happy'], ['happy'], ['happy'], ['sad'], ['anger'], ['happy'], ['sad'], ['anger'], ['sad'], ['anger'], ['sad'], ['sad'], ['sad'], ['anger'], ['sad'], ['happy'], ['anger'], ['anger'], ['sad'], ['anger'], ['sad'], ['neutral'], ['sad'], ['sad'], ['anger'], ['sad'], ['neutral'], ['happy'], ['sad'], ['sad'], ['anger'], ['happy'], ['happy'], ['anger'], ['happy'], ['sad'], ['anger'], ['anger'], ['happy'], ['happy'], ['anger'], ['neutral'], ['happy'], ['happy'], ['anger'], ['happy'], ['happy'], ['sad'], ['happy'], ['sad'], ['sad'], ['happy'], ['happy'], ['anger'], ['sad'], ['anger'], ['sad'], ['anger'], ['neutral'], ['anger'], ['neutral'], ['sad'], ['sad']]\n"
          ],
          "name": "stdout"
        }
      ]
    },
    {
      "cell_type": "code",
      "metadata": {
        "id": "RupBMI7gU43a"
      },
      "source": [
        "from sklearn.metrics import accuracy_score\n",
        "accuracy = accuracy_score(y_true = y_test, y_pred = y_pred)"
      ],
      "execution_count": null,
      "outputs": []
    },
    {
      "cell_type": "code",
      "metadata": {
        "id": "ekWsKcmgU6li",
        "outputId": "50e25d28-c305-48ad-9d39-ef902197e288",
        "colab": {
          "base_uri": "https://localhost:8080/",
          "height": 35
        }
      },
      "source": [
        "print(\"Accuracy: {:.2f}%\".format(accuracy*100))"
      ],
      "execution_count": null,
      "outputs": [
        {
          "output_type": "stream",
          "text": [
            "Accuracy: 76.74%\n"
          ],
          "name": "stdout"
        }
      ]
    },
    {
      "cell_type": "code",
      "metadata": {
        "id": "_GQFga9-fE7m"
      },
      "source": [
        "from sklearn.metrics import classification_report\n",
        "from sklearn.datasets import make_classification\n",
        "from sklearn.metrics import confusion_matrix"
      ],
      "execution_count": null,
      "outputs": []
    },
    {
      "cell_type": "code",
      "metadata": {
        "id": "eeSG0qGGdp2K",
        "outputId": "dffe7c7b-f7d1-463b-c6f7-6f08799827a0",
        "colab": {
          "base_uri": "https://localhost:8080/",
          "height": 208
        }
      },
      "source": [
        "classes = ('anger', 'happy', 'neutral', 'sad')\n",
        "\n",
        "target_names = classes\n",
        "print(classification_report(y_test, y_pred, target_names=target_names))\n",
        "\n"
      ],
      "execution_count": null,
      "outputs": [
        {
          "output_type": "stream",
          "text": [
            "              precision    recall  f1-score   support\n",
            "\n",
            "       anger       0.90      0.77      0.83       396\n",
            "       happy       0.73      0.75      0.74       453\n",
            "     neutral       0.71      0.76      0.74       391\n",
            "         sad       0.76      0.79      0.78       428\n",
            "\n",
            "    accuracy                           0.77      1668\n",
            "   macro avg       0.77      0.77      0.77      1668\n",
            "weighted avg       0.77      0.77      0.77      1668\n",
            "\n"
          ],
          "name": "stdout"
        }
      ]
    },
    {
      "cell_type": "code",
      "metadata": {
        "id": "L79BVtUEjYYO",
        "outputId": "ace66470-385c-48b5-effb-375ee0ec5964",
        "colab": {
          "base_uri": "https://localhost:8080/",
          "height": 505
        }
      },
      "source": [
        "\n",
        "# Plot non-normalized confusion matrix\n",
        "import seaborn as sn\n",
        "import pandas as pd\n",
        "#!pip install matplotlib==3.1.0 # Solves the confusion matrix gets cut\n",
        "cm = confusion_matrix(y_test, y_pred, labels=[\"anger\", \"happy\", \"neutral\", \"sad\"])\n",
        "print(cm)\n",
        "df_cm = pd.DataFrame(cm, range(len(cm)),\n",
        "                  range(len(cm)))\n",
        "\n",
        "plt.figure(figsize=(10,7))\n",
        "sn.set(font_scale=1.4)#for label size\n",
        "sn.heatmap(df_cm, annot=True,annot_kws={\"size\": 14})# font size\n",
        "\n",
        "plt.show()"
      ],
      "execution_count": null,
      "outputs": [
        {
          "output_type": "stream",
          "text": [
            "[[304  68  18   6]\n",
            " [ 34 339  38  42]\n",
            " [  0  35 297  59]\n",
            " [  1  24  63 340]]\n"
          ],
          "name": "stdout"
        },
        {
          "output_type": "display_data",
          "data": {
            "image/png": "[encoded data removed]",
            "text/plain": [
              "<Figure size 720x504 with 2 Axes>"
            ]
          },
          "metadata": {
            "tags": []
          }
        }
      ]
    },
    {
      "cell_type": "code",
      "metadata": {
        "id": "r9HmyZIGd-oA",
        "outputId": "99c767b9-3ef7-4980-9c17-fdea7185d2fd",
        "colab": {
          "base_uri": "https://localhost:8080/",
          "height": 35
        }
      },
      "source": [
        "from google.colab import drive\n",
        "drive.mount('/content/drive')"
      ],
      "execution_count": null,
      "outputs": [
        {
          "output_type": "stream",
          "text": [
            "Drive already mounted at /content/drive; to attempt to forcibly remount, call drive.mount(\"/content/drive\", force_remount=True).\n"
          ],
          "name": "stdout"
        }
      ]
    },
    {
      "cell_type": "code",
      "metadata": {
        "id": "YwXFdnpe3cgx"
      },
      "source": [
        "feature=extract_features(\"/content/drive/My Drive/try/dana.wav\", mfcc = True, chroma = True, mel = True, contrast= True ,tonnetz= True)"
      ],
      "execution_count": null,
      "outputs": []
    },
    {
      "cell_type": "code",
      "metadata": {
        "id": "LFsppKot7XDT"
      },
      "source": [
        "v =[]\n",
        "v.append(feature)"
      ],
      "execution_count": null,
      "outputs": []
    },
    {
      "cell_type": "code",
      "metadata": {
        "id": "-xQGU60H71q6"
      },
      "source": [
        "y_pred=classifier.predict(v)\n",
        "result=classifier.predict_proba(v)"
      ],
      "execution_count": null,
      "outputs": []
    },
    {
      "cell_type": "code",
      "metadata": {
        "id": "9xI8azpY75vj",
        "outputId": "9ae49e30-3694-4e0e-9bb3-345b8fd571c3",
        "colab": {
          "base_uri": "https://localhost:8080/",
          "height": 69
        }
      },
      "source": [
        "print(y_pred)\n",
        "print('Probability: ', result)\n",
        "#print(class_to_idx['anger'])\n",
        "print(classifier.classes_)\n",
        "\n"
      ],
      "execution_count": null,
      "outputs": [
        {
          "output_type": "stream",
          "text": [
            "['happy']\n",
            "Probability:  [[3.68797722e-04 9.99630854e-01 3.43828730e-07 4.30133277e-09]]\n",
            "['anger' 'happy' 'neutral' 'sad']\n"
          ],
          "name": "stdout"
        }
      ]
    },
    {
      "cell_type": "code",
      "metadata": {
        "id": "pM1Ws52xzINO"
      },
      "source": [
        "import torch\n",
        "torch.save(classifier,\"/content/drive/My Drive/final project/saveModel/model1\")"
      ],
      "execution_count": null,
      "outputs": []
    }
  ]
}