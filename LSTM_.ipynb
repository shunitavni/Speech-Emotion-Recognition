{
  "nbformat": 4,
  "nbformat_minor": 0,
  "metadata": {
    "colab": {
      "name": "LSTM .ipynb",
      "provenance": [],
      "include_colab_link": true
    },
    "kernelspec": {
      "name": "python3",
      "display_name": "Python 3"
    },
    "accelerator": "GPU"
  },
  "cells": [
    {
      "cell_type": "markdown",
      "metadata": {
        "id": "view-in-github",
        "colab_type": "text"
      },
      "source": [
        "<a href=\"https://colab.research.google.com/github/shunitavni/Speech-Emotion-Recognition/blob/master/LSTM_.ipynb\" target=\"_parent\"><img src=\"https://colab.research.google.com/assets/colab-badge.svg\" alt=\"Open In Colab\"/></a>"
      ]
    },
    {
      "cell_type": "code",
      "metadata": {
        "id": "tBh-wkbDgPGU"
      },
      "source": [
        "from keras.models import Model,Sequential\n",
        "from keras import optimizers\n",
        "from keras.layers import LSTM,Dense,Activation, Dropout\n",
        "from keras.utils import to_categorical\n",
        "from keras.models import load_model\n",
        "import sklearn.metrics as metrics\n",
        "import matplotlib.pyplot as plt\n",
        "import itertools\n",
        "import matplotlib.pyplot as plt\n",
        "import csv\n",
        "from sklearn.model_selection import train_test_split\n",
        "import numpy as np\n",
        "from sklearn.metrics import accuracy_score\n"
      ],
      "execution_count": null,
      "outputs": []
    },
    {
      "cell_type": "code",
      "metadata": {
        "id": "FGLeZRxdisuO"
      },
      "source": [
        "def LSTM(input_shape):\n",
        "\tmodel = Sequential()\n",
        "\tmodel.add(LSTM(128, input_shape=(input_shape)))\n",
        "\tmodel.add(Dropout(0.5))\n",
        "\tmodel.add(Dense(32, activation='relu'))\n",
        "\tmodel.add(Dense(4, activation = 'softmax'))\n",
        " \n",
        "\treturn model"
      ],
      "execution_count": null,
      "outputs": []
    },
    {
      "cell_type": "code",
      "metadata": {
        "id": "EdyfmpeVjC-w",
        "outputId": "f6ece88a-590d-4b50-9511-00ba86139118",
        "colab": {
          "base_uri": "https://localhost:8080/",
          "height": 122
        }
      },
      "source": [
        "from google.colab import drive\n",
        "drive.mount('/content/drive')"
      ],
      "execution_count": null,
      "outputs": [
        {
          "output_type": "stream",
          "text": [
            "Go to this URL in a browser: https://accounts.google.com/o/oauth2/auth?client_id=947318989803-6bn6qk8qdgf4n4g3pfee6491hc0brc4i.apps.googleusercontent.com&redirect_uri=urn%3aietf%3awg%3aoauth%3a2.0%3aoob&response_type=code&scope=email%20https%3a%2f%2fwww.googleapis.com%2fauth%2fdocs.test%20https%3a%2f%2fwww.googleapis.com%2fauth%2fdrive%20https%3a%2f%2fwww.googleapis.com%2fauth%2fdrive.photos.readonly%20https%3a%2f%2fwww.googleapis.com%2fauth%2fpeopleapi.readonly\n",
            "\n",
            "Enter your authorization code:\n",
            "··········\n",
            "Mounted at /content/drive\n"
          ],
          "name": "stdout"
        }
      ]
    },
    {
      "cell_type": "code",
      "metadata": {
        "id": "HQ5Pi_M4gr1T"
      },
      "source": [
        "def load_data(test_size):\n",
        "  X, y = [], []\n",
        "\n",
        "  # with open('/content/drive/My Drive/final Project/csv/f_mel_happy.csv') as csvDataFile:\n",
        "  #     csvReader = csv.reader(csvDataFile,quoting=csv.QUOTE_NONNUMERIC)\n",
        "  #     for row in csvReader:\n",
        "  #       X.append(row)\n",
        "\n",
        "  # with open('/content/drive/My Drive/final Project/csv/labels_mel_happy.csv') as csvDataFile:\n",
        "  #     csvReader = csv.reader(csvDataFile)\n",
        "  #     for row in csvReader:\n",
        "  #       y.append(0)\n",
        "\n",
        "  # with open('/content/drive/My Drive/final Project/csv/f_mel_anger.csv') as csvDataFile:\n",
        "  #     csvReader = csv.reader(csvDataFile,quoting=csv.QUOTE_NONNUMERIC)\n",
        "  #     for row in csvReader:\n",
        "  #       X.append(row)\n",
        "\n",
        "  # with open('/content/drive/My Drive/final Project/csv/labels_mel_anger.csv') as csvDataFile:\n",
        "  #     csvReader = csv.reader(csvDataFile)\n",
        "  #     for row in csvReader:\n",
        "  #         y.append(1)\n",
        "\n",
        "  # with open('/content/drive/My Drive/final Project/csv/f_mel_sad.csv') as csvDataFile:\n",
        "  #     csvReader = csv.reader(csvDataFile,quoting=csv.QUOTE_NONNUMERIC)\n",
        "  #     for row in csvReader:\n",
        "  #       X.append(row)\n",
        "\n",
        "  # with open('/content/drive/My Drive/final Project/csv/labels_mel_sad.csv') as csvDataFile:\n",
        "  #     csvReader = csv.reader(csvDataFile)\n",
        "  #     for row in csvReader:\n",
        "  #         y.append(2)\n",
        "\n",
        "  # with open('/content/drive/My Drive/final Project/csv/f_mel_neutral.csv') as csvDataFile:\n",
        "  #     csvReader = csv.reader(csvDataFile,quoting=csv.QUOTE_NONNUMERIC)\n",
        "  #     for row in csvReader:\n",
        "  #       X.append(row)\n",
        "\n",
        "  # with open('/content/drive/My Drive/final Project/csv/labels_mel_neutral.csv') as csvDataFile:\n",
        "  #     csvReader = csv.reader(csvDataFile)\n",
        "  #     for row in csvReader:\n",
        "  #         y.append(3)\n",
        "#happy\n",
        "  with open('/content/drive/My Drive/final Project/csv/f_mel_happy.csv') as csvDataFile:\n",
        "      csvReader = csv.reader(csvDataFile,quoting=csv.QUOTE_NONNUMERIC)\n",
        "      for row in csvReader:\n",
        "        X.append(row)\n",
        "        y.append(0)\n",
        "\n",
        "\n",
        "#anger\n",
        "  with open('/content/drive/My Drive/final Project/csv/f_mel_anger.csv') as csvDataFile:\n",
        "      csvReader = csv.reader(csvDataFile,quoting=csv.QUOTE_NONNUMERIC)\n",
        "      for row in csvReader:\n",
        "        X.append(row)\n",
        "        y.append(1)\n",
        "\n",
        "#sad\n",
        "  with open('/content/drive/My Drive/final Project/csv/f_mel_sad.csv') as csvDataFile:\n",
        "      csvReader = csv.reader(csvDataFile,quoting=csv.QUOTE_NONNUMERIC)\n",
        "      for row in csvReader:\n",
        "        X.append(row)\n",
        "        y.append(2)\n",
        "\n",
        "\n",
        "#neutral\n",
        "  with open('/content/drive/My Drive/final Project/csv/f_mel_neutral.csv') as csvDataFile:\n",
        "      csvReader = csv.reader(csvDataFile,quoting=csv.QUOTE_NONNUMERIC)\n",
        "      for row in csvReader:\n",
        "        X.append(row)\n",
        "        y.append(3)\n",
        "\n",
        "#disgust\n",
        "  with open('/content/drive/My Drive/final Project/csv/f_mel_disgust.csv') as csvDataFile:\n",
        "      csvReader = csv.reader(csvDataFile,quoting=csv.QUOTE_NONNUMERIC)\n",
        "      for row in csvReader:\n",
        "        X.append(row)\n",
        "        y.append(4)\n",
        "\n",
        "#fear\n",
        "  with open('/content/drive/My Drive/final Project/csv/f_mel_fear.csv') as csvDataFile:\n",
        "      csvReader = csv.reader(csvDataFile,quoting=csv.QUOTE_NONNUMERIC)\n",
        "      for row in csvReader:\n",
        "        X.append(row)\n",
        "        y.append(5)\n",
        "\n",
        "  return train_test_split(np.array(X), y, test_size = test_size, random_state = 9)"
      ],
      "execution_count": null,
      "outputs": []
    },
    {
      "cell_type": "code",
      "metadata": {
        "id": "W33usgaRhWOO"
      },
      "source": [
        "X_train, X_test, y_train, y_test = load_data(test_size = 0.25)"
      ],
      "execution_count": null,
      "outputs": []
    },
    {
      "cell_type": "code",
      "metadata": {
        "id": "gn3-2-r7hkBh"
      },
      "source": [
        "\tX_train = X_train.reshape(-1,X_train.shape[1],1)\n",
        "\tX_test = X_test.reshape(-1,X_test.shape[1],1)\n",
        "\ty_train = to_categorical(y_train)\n",
        "\ty_test = to_categorical(y_test)"
      ],
      "execution_count": null,
      "outputs": []
    },
    {
      "cell_type": "code",
      "metadata": {
        "id": "YYwAbezSlkBZ",
        "outputId": "683c275c-d69b-4e2f-c501-9e4741b883fe",
        "colab": {
          "base_uri": "https://localhost:8080/",
          "height": 316
        }
      },
      "source": [
        "model=LSTM(input_shape=X_train.shape[1:])\n",
        "model.compile(loss = 'binary_crossentropy', optimizer = 'adam', metrics = ['accuracy'])\n",
        "model.summary()"
      ],
      "execution_count": null,
      "outputs": [
        {
          "output_type": "error",
          "ename": "TypeError",
          "evalue": "ignored",
          "traceback": [
            "\u001b[0;31m---------------------------------------------------------------------------\u001b[0m",
            "\u001b[0;31mTypeError\u001b[0m                                 Traceback (most recent call last)",
            "\u001b[0;32m<ipython-input-8-8f843e1a79a4>\u001b[0m in \u001b[0;36m<module>\u001b[0;34m()\u001b[0m\n\u001b[0;32m----> 1\u001b[0;31m \u001b[0mmodel\u001b[0m\u001b[0;34m=\u001b[0m\u001b[0mLSTM\u001b[0m\u001b[0;34m(\u001b[0m\u001b[0minput_shape\u001b[0m\u001b[0;34m=\u001b[0m\u001b[0mX_train\u001b[0m\u001b[0;34m.\u001b[0m\u001b[0mshape\u001b[0m\u001b[0;34m[\u001b[0m\u001b[0;36m1\u001b[0m\u001b[0;34m:\u001b[0m\u001b[0;34m]\u001b[0m\u001b[0;34m)\u001b[0m\u001b[0;34m\u001b[0m\u001b[0;34m\u001b[0m\u001b[0m\n\u001b[0m\u001b[1;32m      2\u001b[0m \u001b[0mmodel\u001b[0m\u001b[0;34m.\u001b[0m\u001b[0mcompile\u001b[0m\u001b[0;34m(\u001b[0m\u001b[0mloss\u001b[0m \u001b[0;34m=\u001b[0m \u001b[0;34m'binary_crossentropy'\u001b[0m\u001b[0;34m,\u001b[0m \u001b[0moptimizer\u001b[0m \u001b[0;34m=\u001b[0m \u001b[0;34m'adam'\u001b[0m\u001b[0;34m,\u001b[0m \u001b[0mmetrics\u001b[0m \u001b[0;34m=\u001b[0m \u001b[0;34m[\u001b[0m\u001b[0;34m'accuracy'\u001b[0m\u001b[0;34m]\u001b[0m\u001b[0;34m)\u001b[0m\u001b[0;34m\u001b[0m\u001b[0;34m\u001b[0m\u001b[0m\n\u001b[1;32m      3\u001b[0m \u001b[0mmodel\u001b[0m\u001b[0;34m.\u001b[0m\u001b[0msummary\u001b[0m\u001b[0;34m(\u001b[0m\u001b[0;34m)\u001b[0m\u001b[0;34m\u001b[0m\u001b[0;34m\u001b[0m\u001b[0m\n",
            "\u001b[0;32m<ipython-input-3-2b80703e916f>\u001b[0m in \u001b[0;36mLSTM\u001b[0;34m(input_shape)\u001b[0m\n\u001b[1;32m      1\u001b[0m \u001b[0;32mdef\u001b[0m \u001b[0mLSTM\u001b[0m\u001b[0;34m(\u001b[0m\u001b[0minput_shape\u001b[0m\u001b[0;34m)\u001b[0m\u001b[0;34m:\u001b[0m\u001b[0;34m\u001b[0m\u001b[0;34m\u001b[0m\u001b[0m\n\u001b[1;32m      2\u001b[0m         \u001b[0mmodel\u001b[0m \u001b[0;34m=\u001b[0m \u001b[0mSequential\u001b[0m\u001b[0;34m(\u001b[0m\u001b[0;34m)\u001b[0m\u001b[0;34m\u001b[0m\u001b[0;34m\u001b[0m\u001b[0m\n\u001b[0;32m----> 3\u001b[0;31m         \u001b[0mmodel\u001b[0m\u001b[0;34m.\u001b[0m\u001b[0madd\u001b[0m\u001b[0;34m(\u001b[0m\u001b[0mLSTM\u001b[0m\u001b[0;34m(\u001b[0m\u001b[0;36m128\u001b[0m\u001b[0;34m,\u001b[0m \u001b[0minput_shape\u001b[0m\u001b[0;34m=\u001b[0m\u001b[0;34m(\u001b[0m\u001b[0minput_shape\u001b[0m\u001b[0;34m)\u001b[0m\u001b[0;34m)\u001b[0m\u001b[0;34m)\u001b[0m\u001b[0;34m\u001b[0m\u001b[0;34m\u001b[0m\u001b[0m\n\u001b[0m\u001b[1;32m      4\u001b[0m         \u001b[0mmodel\u001b[0m\u001b[0;34m.\u001b[0m\u001b[0madd\u001b[0m\u001b[0;34m(\u001b[0m\u001b[0mDropout\u001b[0m\u001b[0;34m(\u001b[0m\u001b[0;36m0.5\u001b[0m\u001b[0;34m)\u001b[0m\u001b[0;34m)\u001b[0m\u001b[0;34m\u001b[0m\u001b[0;34m\u001b[0m\u001b[0m\n\u001b[1;32m      5\u001b[0m         \u001b[0mmodel\u001b[0m\u001b[0;34m.\u001b[0m\u001b[0madd\u001b[0m\u001b[0;34m(\u001b[0m\u001b[0mDense\u001b[0m\u001b[0;34m(\u001b[0m\u001b[0;36m32\u001b[0m\u001b[0;34m,\u001b[0m \u001b[0mactivation\u001b[0m\u001b[0;34m=\u001b[0m\u001b[0;34m'relu'\u001b[0m\u001b[0;34m)\u001b[0m\u001b[0;34m)\u001b[0m\u001b[0;34m\u001b[0m\u001b[0;34m\u001b[0m\u001b[0m\n",
            "\u001b[0;31mTypeError\u001b[0m: LSTM() got multiple values for argument 'input_shape'"
          ]
        }
      ]
    },
    {
      "cell_type": "code",
      "metadata": {
        "id": "-MoTknX0HQv1"
      },
      "source": [
        "#model.load_weights(\"/content/drive/My Drive/final Project/\")"
      ],
      "execution_count": null,
      "outputs": []
    },
    {
      "cell_type": "code",
      "metadata": {
        "id": "aHDuM8G1l8li"
      },
      "source": [
        "history = model.fit(X_train,y_train,epochs=120,batch_size=32)"
      ],
      "execution_count": null,
      "outputs": []
    },
    {
      "cell_type": "code",
      "metadata": {
        "id": "OinofILVwIgo"
      },
      "source": [
        "# model.save(\"/content/drive/My Drive/final Project/\")\n",
        "# model.save_weights(\"/content/drive/My Drive/final Project/\")"
      ],
      "execution_count": null,
      "outputs": []
    },
    {
      "cell_type": "code",
      "metadata": {
        "id": "KMCSgwjltIJb",
        "outputId": "8f6d1223-bf94-4aa7-c576-8462c39da230",
        "colab": {
          "base_uri": "https://localhost:8080/",
          "height": 34
        }
      },
      "source": [
        "y_pred=model.predict(X_test)\n",
        "class_labels=(0,1,2,3,4,5)\n",
        "predicted_classes = np.argmax(y_pred, axis=1)\n",
        "true = np.argmax(y_test, axis=1)\n",
        "\n",
        "accuracy = accuracy_score(y_true = true, y_pred = predicted_classes)\n",
        "print(\"Accuracy: {:.2f}%\".format(accuracy*100))"
      ],
      "execution_count": null,
      "outputs": [
        {
          "output_type": "stream",
          "text": [
            "Accuracy: 69.21%\n"
          ],
          "name": "stdout"
        }
      ]
    },
    {
      "cell_type": "code",
      "metadata": {
        "id": "gWfUzxZGsq_I",
        "outputId": "a0819c08-12e4-4b3f-a2be-5a4d86318c69",
        "colab": {
          "base_uri": "https://localhost:8080/",
          "height": 775
        }
      },
      "source": [
        "def plot_confusion_matrix(cm, classes,\n",
        "                          normalize=False,\n",
        "                          title='Confusion matrix',\n",
        "                          cmap=plt.cm.Blues):\n",
        "\n",
        "    if normalize:\n",
        "        cm = cm.astype('float') / cm.sum(axis=1)[:, np.newaxis]*100\n",
        "        print(\"Normalized confusion matrix\")\n",
        "    else:\n",
        "        print('Confusion matrix, without normalization')\n",
        "\n",
        "    print(cm)\n",
        "\n",
        "    plt.imshow(cm, interpolation='nearest', cmap=cmap, aspect = 'auto')\n",
        "    plt.title(title)\n",
        "    plt.colorbar()\n",
        "    tick_marks = np.arange(len(classes))\n",
        "    plt.xticks(tick_marks, classes, rotation=45)\n",
        "    plt.yticks(tick_marks, classes)\n",
        "\n",
        "    fmt = '.2f' if normalize else 'd'\n",
        "    thresh = cm.max() / 2.\n",
        "    for i, j in itertools.product(range(cm.shape[0]), range(cm.shape[1])):\n",
        "        plt.text(j, i, format(cm[i, j], fmt),\n",
        "                 horizontalalignment=\"center\",\n",
        "                 color=\"white\" if cm[i, j] > thresh else \"black\")\n",
        "\n",
        "    plt.tight_layout()\n",
        "    plt.ylabel('True label')\n",
        "    plt.xlabel('Predicted label')\n",
        "\n",
        "# Compute confusion matrix\n",
        "cnf_matrix = metrics.confusion_matrix(true, predicted_classes)\n",
        "np.set_printoptions(precision=4)\n",
        "\n",
        "# Plot non-normalized confusion matrix\n",
        "plt.figure()\n",
        "plot_confusion_matrix(cnf_matrix, classes=class_labels,\n",
        "                      title='Confusion matrix, without normalization')\n",
        "plt.savefig(\"non_normalized_confusion_matrix_cnn_lstm.png\")\n",
        "plt.show()\n",
        "# Plot normalized confusion matrix\n",
        "plt.figure()\n",
        "plot_confusion_matrix(cnf_matrix, classes=class_labels, normalize=True,\n",
        "                      title='Normalized confusion matrix')\n",
        "plt.savefig(\"normalized_confusion_matrix_cnn_lstm.png\")\n",
        "plt.show()"
      ],
      "execution_count": null,
      "outputs": [
        {
          "output_type": "stream",
          "text": [
            "Confusion matrix, without normalization\n",
            "[[207  97  32  57]\n",
            " [ 79 361   9  18]\n",
            " [ 21   4 328  81]\n",
            " [ 41   8  66 257]]\n"
          ],
          "name": "stdout"
        },
        {
          "output_type": "display_data",
          "data": {
            "image/png": "[encoded data removed]",
            "text/plain": [
              "<Figure size 432x288 with 2 Axes>"
            ]
          },
          "metadata": {
            "tags": [],
            "needs_background": "light"
          }
        },
        {
          "output_type": "stream",
          "text": [
            "Normalized confusion matrix\n",
            "[[52.6718 24.6819  8.1425 14.5038]\n",
            " [16.9165 77.3019  1.9272  3.8544]\n",
            " [ 4.8387  0.9217 75.576  18.6636]\n",
            " [11.0215  2.1505 17.7419 69.086 ]]\n"
          ],
          "name": "stdout"
        },
        {
          "output_type": "display_data",
          "data": {
            "image/png": "[encoded data removed]",
            "text/plain": [
              "<Figure size 432x288 with 2 Axes>"
            ]
          },
          "metadata": {
            "tags": [],
            "needs_background": "light"
          }
        }
      ]
    }
  ]
}